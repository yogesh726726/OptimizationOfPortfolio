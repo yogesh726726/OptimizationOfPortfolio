{
 "cells": [
  {
   "cell_type": "markdown",
   "id": "af177744-89bc-47d6-b029-27daf57929e6",
   "metadata": {},
   "source": [
    "# Portfolio Risk Analysis and Optimization using Monte Carlo Simulation\n",
    "\n",
    "This project simulates random portfolios based on selected assets and identifies the optimal portfolio using key metrics like Sharpe Ratio and Volatility.\n",
    "\n",
    "## Objectives:\n",
    "- Simulate 10,000+ portfolios with random weights\n",
    "- Calculate return, volatility, and Sharpe ratio\n",
    "- Identify the optimal portfolio based on max Sharpe and min volatility\n",
    "- Visualize the efficient frontier"
   ]
  },
  {
   "cell_type": "markdown",
   "id": "196085a5-95c4-4f5b-80f2-f467793e7bc5",
   "metadata": {},
   "source": [
    "Import all the relevant libraries. I use yfinance library to gain access to stock data via the yahoo finance api."
   ]
  },
  {
   "cell_type": "code",
   "execution_count": 1,
   "id": "3ef480b0-fd85-440c-9c29-db4d25705367",
   "metadata": {},
   "outputs": [],
   "source": [
    "import pandas as pd\n",
    "import numpy as np\n",
    "import matplotlib.pyplot as plt\n",
    "import seaborn as sns\n",
    "import yfinance as yf"
   ]
  },
  {
   "cell_type": "markdown",
   "id": "94d53b2e-0534-4829-8231-d5539f146d68",
   "metadata": {},
   "source": [
    "For this portfolio I will include in the stock basket: Apple, Microsoft, Google, JP Morgan, Tesla and IBM stocks. This \n",
    "basket is diverse enough for my purposes and can allow me to make insights about risks based on volatility and returns."
   ]
  },
  {
   "cell_type": "code",
   "execution_count": 2,
   "id": "84782ce0-2143-482b-8c89-618636e8468a",
   "metadata": {},
   "outputs": [],
   "source": [
    "symbols = ['AAPL', 'MSFT', 'GOOGL', 'JPM', 'TSLA', 'IBM']\n",
    "num_of_symbols = len(symbols)\n",
    "stock_data = 'stock_data.csv'"
   ]
  },
  {
   "cell_type": "markdown",
   "id": "6857f6f6-90d3-46d3-a705-fe3bcc05dae7",
   "metadata": {},
   "source": [
    "I use a 5 year period from 2020 up until the end of 2024. "
   ]
  },
  {
   "cell_type": "code",
   "execution_count": 3,
   "id": "34d76157-ea43-43c5-bf75-366db1b49aff",
   "metadata": {},
   "outputs": [],
   "source": [
    "START_DATE = '2020-01-01'\n",
    "END_DATE = '2024-12-31'"
   ]
  },
  {
   "cell_type": "markdown",
   "id": "3dc1f587-8c89-454b-8ee6-2a260387a252",
   "metadata": {},
   "source": [
    "The raw data is imported through the yfinance library. I then extract the closing prices for the stocks adjusted for coorporate actions like stock splits and dividend distributions."
   ]
  },
  {
   "cell_type": "code",
   "execution_count": 4,
   "id": "eadb0344-4b35-46ac-8c47-6f8a29a8d008",
   "metadata": {},
   "outputs": [
    {
     "name": "stderr",
     "output_type": "stream",
     "text": [
      "[*********************100%***********************]  6 of 6 completed\n"
     ]
    },
    {
     "data": {
      "text/html": [
       "<div>\n",
       "<style scoped>\n",
       "    .dataframe tbody tr th:only-of-type {\n",
       "        vertical-align: middle;\n",
       "    }\n",
       "\n",
       "    .dataframe tbody tr th {\n",
       "        vertical-align: top;\n",
       "    }\n",
       "\n",
       "    .dataframe thead th {\n",
       "        text-align: right;\n",
       "    }\n",
       "</style>\n",
       "<table border=\"1\" class=\"dataframe\">\n",
       "  <thead>\n",
       "    <tr style=\"text-align: right;\">\n",
       "      <th>Ticker</th>\n",
       "      <th>AAPL</th>\n",
       "      <th>GOOGL</th>\n",
       "      <th>IBM</th>\n",
       "      <th>JPM</th>\n",
       "      <th>MSFT</th>\n",
       "      <th>TSLA</th>\n",
       "    </tr>\n",
       "    <tr>\n",
       "      <th>Date</th>\n",
       "      <th></th>\n",
       "      <th></th>\n",
       "      <th></th>\n",
       "      <th></th>\n",
       "      <th></th>\n",
       "      <th></th>\n",
       "    </tr>\n",
       "  </thead>\n",
       "  <tbody>\n",
       "    <tr>\n",
       "      <th>2020-01-02</th>\n",
       "      <td>72.620819</td>\n",
       "      <td>68.026024</td>\n",
       "      <td>101.245125</td>\n",
       "      <td>120.733543</td>\n",
       "      <td>153.042313</td>\n",
       "      <td>28.684000</td>\n",
       "    </tr>\n",
       "    <tr>\n",
       "      <th>2020-01-03</th>\n",
       "      <td>71.914833</td>\n",
       "      <td>67.670151</td>\n",
       "      <td>100.437683</td>\n",
       "      <td>119.140305</td>\n",
       "      <td>151.136673</td>\n",
       "      <td>29.534000</td>\n",
       "    </tr>\n",
       "    <tr>\n",
       "      <th>2020-01-06</th>\n",
       "      <td>72.487862</td>\n",
       "      <td>69.473846</td>\n",
       "      <td>100.258240</td>\n",
       "      <td>119.045563</td>\n",
       "      <td>151.527328</td>\n",
       "      <td>30.102667</td>\n",
       "    </tr>\n",
       "    <tr>\n",
       "      <th>2020-01-07</th>\n",
       "      <td>72.146942</td>\n",
       "      <td>69.339638</td>\n",
       "      <td>100.325523</td>\n",
       "      <td>117.021744</td>\n",
       "      <td>150.145721</td>\n",
       "      <td>31.270666</td>\n",
       "    </tr>\n",
       "    <tr>\n",
       "      <th>2020-01-08</th>\n",
       "      <td>73.307518</td>\n",
       "      <td>69.833183</td>\n",
       "      <td>101.162880</td>\n",
       "      <td>117.934624</td>\n",
       "      <td>152.537308</td>\n",
       "      <td>32.809334</td>\n",
       "    </tr>\n",
       "    <tr>\n",
       "      <th>...</th>\n",
       "      <td>...</td>\n",
       "      <td>...</td>\n",
       "      <td>...</td>\n",
       "      <td>...</td>\n",
       "      <td>...</td>\n",
       "      <td>...</td>\n",
       "    </tr>\n",
       "    <tr>\n",
       "      <th>2024-12-23</th>\n",
       "      <td>254.655716</td>\n",
       "      <td>194.171036</td>\n",
       "      <td>219.003876</td>\n",
       "      <td>235.713242</td>\n",
       "      <td>433.583038</td>\n",
       "      <td>430.600006</td>\n",
       "    </tr>\n",
       "    <tr>\n",
       "      <th>2024-12-24</th>\n",
       "      <td>257.578674</td>\n",
       "      <td>195.647552</td>\n",
       "      <td>221.451202</td>\n",
       "      <td>239.589218</td>\n",
       "      <td>437.647400</td>\n",
       "      <td>462.279999</td>\n",
       "    </tr>\n",
       "    <tr>\n",
       "      <th>2024-12-26</th>\n",
       "      <td>258.396667</td>\n",
       "      <td>195.138748</td>\n",
       "      <td>221.924866</td>\n",
       "      <td>240.409912</td>\n",
       "      <td>436.432068</td>\n",
       "      <td>454.130005</td>\n",
       "    </tr>\n",
       "    <tr>\n",
       "      <th>2024-12-27</th>\n",
       "      <td>254.974930</td>\n",
       "      <td>192.305435</td>\n",
       "      <td>219.842682</td>\n",
       "      <td>238.462036</td>\n",
       "      <td>428.881104</td>\n",
       "      <td>431.660004</td>\n",
       "    </tr>\n",
       "    <tr>\n",
       "      <th>2024-12-30</th>\n",
       "      <td>251.593094</td>\n",
       "      <td>190.789047</td>\n",
       "      <td>217.346039</td>\n",
       "      <td>236.632812</td>\n",
       "      <td>423.202911</td>\n",
       "      <td>417.410004</td>\n",
       "    </tr>\n",
       "  </tbody>\n",
       "</table>\n",
       "<p>1257 rows × 6 columns</p>\n",
       "</div>"
      ],
      "text/plain": [
       "Ticker            AAPL       GOOGL         IBM         JPM        MSFT  \\\n",
       "Date                                                                     \n",
       "2020-01-02   72.620819   68.026024  101.245125  120.733543  153.042313   \n",
       "2020-01-03   71.914833   67.670151  100.437683  119.140305  151.136673   \n",
       "2020-01-06   72.487862   69.473846  100.258240  119.045563  151.527328   \n",
       "2020-01-07   72.146942   69.339638  100.325523  117.021744  150.145721   \n",
       "2020-01-08   73.307518   69.833183  101.162880  117.934624  152.537308   \n",
       "...                ...         ...         ...         ...         ...   \n",
       "2024-12-23  254.655716  194.171036  219.003876  235.713242  433.583038   \n",
       "2024-12-24  257.578674  195.647552  221.451202  239.589218  437.647400   \n",
       "2024-12-26  258.396667  195.138748  221.924866  240.409912  436.432068   \n",
       "2024-12-27  254.974930  192.305435  219.842682  238.462036  428.881104   \n",
       "2024-12-30  251.593094  190.789047  217.346039  236.632812  423.202911   \n",
       "\n",
       "Ticker            TSLA  \n",
       "Date                    \n",
       "2020-01-02   28.684000  \n",
       "2020-01-03   29.534000  \n",
       "2020-01-06   30.102667  \n",
       "2020-01-07   31.270666  \n",
       "2020-01-08   32.809334  \n",
       "...                ...  \n",
       "2024-12-23  430.600006  \n",
       "2024-12-24  462.279999  \n",
       "2024-12-26  454.130005  \n",
       "2024-12-27  431.660004  \n",
       "2024-12-30  417.410004  \n",
       "\n",
       "[1257 rows x 6 columns]"
      ]
     },
     "metadata": {},
     "output_type": "display_data"
    }
   ],
   "source": [
    "raw_data = yf.download(symbols, start=START_DATE, end=END_DATE, auto_adjust = False)\n",
    "stock_prices = raw_data['Adj Close']\n",
    "display(stock_prices)"
   ]
  },
  {
   "cell_type": "markdown",
   "id": "d5f73bf1-f663-4ed3-aceb-d54292e22caa",
   "metadata": {},
   "source": [
    "We load the raw data into the csv file"
   ]
  },
  {
   "cell_type": "code",
   "execution_count": 5,
   "id": "21208cfa-20d6-4362-b35c-f89de04974f4",
   "metadata": {},
   "outputs": [
    {
     "data": {
      "text/plain": [
       "'stock_data.csv'"
      ]
     },
     "execution_count": 5,
     "metadata": {},
     "output_type": "execute_result"
    }
   ],
   "source": [
    "stock_prices.to_csv(stock_data)\n",
    "stock_data"
   ]
  },
  {
   "cell_type": "code",
   "execution_count": 6,
   "id": "afeede52-35d7-4b74-9cf5-83eead28458e",
   "metadata": {},
   "outputs": [
    {
     "data": {
      "text/html": [
       "<div>\n",
       "<style scoped>\n",
       "    .dataframe tbody tr th:only-of-type {\n",
       "        vertical-align: middle;\n",
       "    }\n",
       "\n",
       "    .dataframe tbody tr th {\n",
       "        vertical-align: top;\n",
       "    }\n",
       "\n",
       "    .dataframe thead th {\n",
       "        text-align: right;\n",
       "    }\n",
       "</style>\n",
       "<table border=\"1\" class=\"dataframe\">\n",
       "  <thead>\n",
       "    <tr style=\"text-align: right;\">\n",
       "      <th></th>\n",
       "      <th>AAPL</th>\n",
       "      <th>GOOGL</th>\n",
       "      <th>IBM</th>\n",
       "      <th>JPM</th>\n",
       "      <th>MSFT</th>\n",
       "      <th>TSLA</th>\n",
       "    </tr>\n",
       "    <tr>\n",
       "      <th>Date</th>\n",
       "      <th></th>\n",
       "      <th></th>\n",
       "      <th></th>\n",
       "      <th></th>\n",
       "      <th></th>\n",
       "      <th></th>\n",
       "    </tr>\n",
       "  </thead>\n",
       "  <tbody>\n",
       "    <tr>\n",
       "      <th>2020-01-02</th>\n",
       "      <td>72.620819</td>\n",
       "      <td>68.026024</td>\n",
       "      <td>101.245125</td>\n",
       "      <td>120.733543</td>\n",
       "      <td>153.042313</td>\n",
       "      <td>28.684000</td>\n",
       "    </tr>\n",
       "    <tr>\n",
       "      <th>2020-01-03</th>\n",
       "      <td>71.914833</td>\n",
       "      <td>67.670151</td>\n",
       "      <td>100.437683</td>\n",
       "      <td>119.140305</td>\n",
       "      <td>151.136673</td>\n",
       "      <td>29.534000</td>\n",
       "    </tr>\n",
       "    <tr>\n",
       "      <th>2020-01-06</th>\n",
       "      <td>72.487862</td>\n",
       "      <td>69.473846</td>\n",
       "      <td>100.258240</td>\n",
       "      <td>119.045563</td>\n",
       "      <td>151.527328</td>\n",
       "      <td>30.102667</td>\n",
       "    </tr>\n",
       "    <tr>\n",
       "      <th>2020-01-07</th>\n",
       "      <td>72.146942</td>\n",
       "      <td>69.339638</td>\n",
       "      <td>100.325523</td>\n",
       "      <td>117.021744</td>\n",
       "      <td>150.145721</td>\n",
       "      <td>31.270666</td>\n",
       "    </tr>\n",
       "    <tr>\n",
       "      <th>2020-01-08</th>\n",
       "      <td>73.307518</td>\n",
       "      <td>69.833183</td>\n",
       "      <td>101.162880</td>\n",
       "      <td>117.934624</td>\n",
       "      <td>152.537308</td>\n",
       "      <td>32.809334</td>\n",
       "    </tr>\n",
       "  </tbody>\n",
       "</table>\n",
       "</div>"
      ],
      "text/plain": [
       "                 AAPL      GOOGL         IBM         JPM        MSFT  \\\n",
       "Date                                                                   \n",
       "2020-01-02  72.620819  68.026024  101.245125  120.733543  153.042313   \n",
       "2020-01-03  71.914833  67.670151  100.437683  119.140305  151.136673   \n",
       "2020-01-06  72.487862  69.473846  100.258240  119.045563  151.527328   \n",
       "2020-01-07  72.146942  69.339638  100.325523  117.021744  150.145721   \n",
       "2020-01-08  73.307518  69.833183  101.162880  117.934624  152.537308   \n",
       "\n",
       "                 TSLA  \n",
       "Date                   \n",
       "2020-01-02  28.684000  \n",
       "2020-01-03  29.534000  \n",
       "2020-01-06  30.102667  \n",
       "2020-01-07  31.270666  \n",
       "2020-01-08  32.809334  "
      ]
     },
     "metadata": {},
     "output_type": "display_data"
    }
   ],
   "source": [
    "portfolio_data = pd.read_csv(stock_data, index_col = 'Date')\n",
    "display(portfolio_data.head())"
   ]
  },
  {
   "cell_type": "code",
   "execution_count": 7,
   "id": "02fb5c0d-4a91-4d83-bbe1-2a9ae06d308a",
   "metadata": {},
   "outputs": [
    {
     "data": {
      "text/html": [
       "<div>\n",
       "<style scoped>\n",
       "    .dataframe tbody tr th:only-of-type {\n",
       "        vertical-align: middle;\n",
       "    }\n",
       "\n",
       "    .dataframe tbody tr th {\n",
       "        vertical-align: top;\n",
       "    }\n",
       "\n",
       "    .dataframe thead th {\n",
       "        text-align: right;\n",
       "    }\n",
       "</style>\n",
       "<table border=\"1\" class=\"dataframe\">\n",
       "  <thead>\n",
       "    <tr style=\"text-align: right;\">\n",
       "      <th></th>\n",
       "      <th>AAPL</th>\n",
       "      <th>GOOGL</th>\n",
       "      <th>IBM</th>\n",
       "      <th>JPM</th>\n",
       "      <th>MSFT</th>\n",
       "      <th>TSLA</th>\n",
       "    </tr>\n",
       "    <tr>\n",
       "      <th>Date</th>\n",
       "      <th></th>\n",
       "      <th></th>\n",
       "      <th></th>\n",
       "      <th></th>\n",
       "      <th></th>\n",
       "      <th></th>\n",
       "    </tr>\n",
       "  </thead>\n",
       "  <tbody>\n",
       "    <tr>\n",
       "      <th>2024-12-23</th>\n",
       "      <td>254.655716</td>\n",
       "      <td>194.171036</td>\n",
       "      <td>219.003876</td>\n",
       "      <td>235.713242</td>\n",
       "      <td>433.583038</td>\n",
       "      <td>430.600006</td>\n",
       "    </tr>\n",
       "    <tr>\n",
       "      <th>2024-12-24</th>\n",
       "      <td>257.578674</td>\n",
       "      <td>195.647552</td>\n",
       "      <td>221.451202</td>\n",
       "      <td>239.589218</td>\n",
       "      <td>437.647400</td>\n",
       "      <td>462.279999</td>\n",
       "    </tr>\n",
       "    <tr>\n",
       "      <th>2024-12-26</th>\n",
       "      <td>258.396667</td>\n",
       "      <td>195.138748</td>\n",
       "      <td>221.924866</td>\n",
       "      <td>240.409912</td>\n",
       "      <td>436.432068</td>\n",
       "      <td>454.130005</td>\n",
       "    </tr>\n",
       "    <tr>\n",
       "      <th>2024-12-27</th>\n",
       "      <td>254.974930</td>\n",
       "      <td>192.305435</td>\n",
       "      <td>219.842682</td>\n",
       "      <td>238.462036</td>\n",
       "      <td>428.881104</td>\n",
       "      <td>431.660004</td>\n",
       "    </tr>\n",
       "    <tr>\n",
       "      <th>2024-12-30</th>\n",
       "      <td>251.593094</td>\n",
       "      <td>190.789047</td>\n",
       "      <td>217.346039</td>\n",
       "      <td>236.632812</td>\n",
       "      <td>423.202911</td>\n",
       "      <td>417.410004</td>\n",
       "    </tr>\n",
       "  </tbody>\n",
       "</table>\n",
       "</div>"
      ],
      "text/plain": [
       "                  AAPL       GOOGL         IBM         JPM        MSFT  \\\n",
       "Date                                                                     \n",
       "2024-12-23  254.655716  194.171036  219.003876  235.713242  433.583038   \n",
       "2024-12-24  257.578674  195.647552  221.451202  239.589218  437.647400   \n",
       "2024-12-26  258.396667  195.138748  221.924866  240.409912  436.432068   \n",
       "2024-12-27  254.974930  192.305435  219.842682  238.462036  428.881104   \n",
       "2024-12-30  251.593094  190.789047  217.346039  236.632812  423.202911   \n",
       "\n",
       "                  TSLA  \n",
       "Date                    \n",
       "2024-12-23  430.600006  \n",
       "2024-12-24  462.279999  \n",
       "2024-12-26  454.130005  \n",
       "2024-12-27  431.660004  \n",
       "2024-12-30  417.410004  "
      ]
     },
     "metadata": {},
     "output_type": "display_data"
    }
   ],
   "source": [
    "display(portfolio_data.tail())"
   ]
  },
  {
   "cell_type": "markdown",
   "id": "8c6f3f4a-cdd6-4047-9d8f-7040ef8a18ec",
   "metadata": {},
   "source": [
    "I use a standard way to visualise the adjusted closing prices over time. An overall basic analysis can be done looking at these prices. We see how Tesla's stock price has been growing over time much faster than other stocks in the portfolio. I can see that there is much more variation in Microsoft's stock prices in this period."
   ]
  },
  {
   "cell_type": "code",
   "execution_count": 8,
   "id": "5ce2c1d6-cf6c-466e-975d-e8d5471422cb",
   "metadata": {},
   "outputs": [
    {
     "data": {
      "image/png": "[encoded data removed]",
      "text/plain": [
       "<Figure size 1200x600 with 1 Axes>"
      ]
     },
     "metadata": {},
     "output_type": "display_data"
    }
   ],
   "source": [
    "plt.figure(figsize=(12, 6))\n",
    "for symbol in symbols:\n",
    "    plt.plot(portfolio_data.index, portfolio_data[symbol], label=symbol)\n",
    "\n",
    "plt.xlabel(\"Date\")\n",
    "plt.ylabel(\"Adjusted Closing Price\")\n",
    "plt.title(\"Adjusted Closing Prices Over Time\")\n",
    "plt.legend(loc=\"upper left\")\n",
    "plt.grid(True)\n",
    "\n",
    "# x-axis are rotated labels for better readability\n",
    "plt.xticks(rotation=45)\n",
    "\n",
    "# Reduce the number of displayed date labels\n",
    "plt.gca().xaxis.set_major_locator(plt.MaxNLocator(30))  # Adjust the number as needed\n",
    "\n",
    "plt.tight_layout()\n",
    "plt.show()"
   ]
  },
  {
   "cell_type": "markdown",
   "id": "96cf2b69-c242-4ea1-b972-5fd3250c4fad",
   "metadata": {},
   "source": [
    "### Portfolio Metrics \n",
    "\n",
    "Next, I find the general portfolio metrics of daily returns (percentage change in the stock \n",
    "closing prices per day; log returns (which are summable over time)."
   ]
  },
  {
   "cell_type": "code",
   "execution_count": 9,
   "id": "60f24091-ac87-4cce-8d67-de588152da92",
   "metadata": {},
   "outputs": [
    {
     "data": {
      "text/html": [
       "<div>\n",
       "<style scoped>\n",
       "    .dataframe tbody tr th:only-of-type {\n",
       "        vertical-align: middle;\n",
       "    }\n",
       "\n",
       "    .dataframe tbody tr th {\n",
       "        vertical-align: top;\n",
       "    }\n",
       "\n",
       "    .dataframe thead th {\n",
       "        text-align: right;\n",
       "    }\n",
       "</style>\n",
       "<table border=\"1\" class=\"dataframe\">\n",
       "  <thead>\n",
       "    <tr style=\"text-align: right;\">\n",
       "      <th></th>\n",
       "      <th>AAPL</th>\n",
       "      <th>GOOGL</th>\n",
       "      <th>IBM</th>\n",
       "      <th>JPM</th>\n",
       "      <th>MSFT</th>\n",
       "      <th>TSLA</th>\n",
       "    </tr>\n",
       "    <tr>\n",
       "      <th>Date</th>\n",
       "      <th></th>\n",
       "      <th></th>\n",
       "      <th></th>\n",
       "      <th></th>\n",
       "      <th></th>\n",
       "      <th></th>\n",
       "    </tr>\n",
       "  </thead>\n",
       "  <tbody>\n",
       "    <tr>\n",
       "      <th>2020-01-03</th>\n",
       "      <td>-0.009722</td>\n",
       "      <td>-0.005231</td>\n",
       "      <td>-0.007975</td>\n",
       "      <td>-0.013196</td>\n",
       "      <td>-0.012452</td>\n",
       "      <td>0.029633</td>\n",
       "    </tr>\n",
       "    <tr>\n",
       "      <th>2020-01-06</th>\n",
       "      <td>0.007968</td>\n",
       "      <td>0.026654</td>\n",
       "      <td>-0.001787</td>\n",
       "      <td>-0.000795</td>\n",
       "      <td>0.002585</td>\n",
       "      <td>0.019255</td>\n",
       "    </tr>\n",
       "    <tr>\n",
       "      <th>2020-01-07</th>\n",
       "      <td>-0.004703</td>\n",
       "      <td>-0.001932</td>\n",
       "      <td>0.000671</td>\n",
       "      <td>-0.017000</td>\n",
       "      <td>-0.009118</td>\n",
       "      <td>0.038801</td>\n",
       "    </tr>\n",
       "    <tr>\n",
       "      <th>2020-01-08</th>\n",
       "      <td>0.016086</td>\n",
       "      <td>0.007118</td>\n",
       "      <td>0.008346</td>\n",
       "      <td>0.007801</td>\n",
       "      <td>0.015928</td>\n",
       "      <td>0.049205</td>\n",
       "    </tr>\n",
       "    <tr>\n",
       "      <th>2020-01-09</th>\n",
       "      <td>0.021241</td>\n",
       "      <td>0.010498</td>\n",
       "      <td>0.010569</td>\n",
       "      <td>0.003651</td>\n",
       "      <td>0.012493</td>\n",
       "      <td>-0.021945</td>\n",
       "    </tr>\n",
       "  </tbody>\n",
       "</table>\n",
       "</div>"
      ],
      "text/plain": [
       "                AAPL     GOOGL       IBM       JPM      MSFT      TSLA\n",
       "Date                                                                  \n",
       "2020-01-03 -0.009722 -0.005231 -0.007975 -0.013196 -0.012452  0.029633\n",
       "2020-01-06  0.007968  0.026654 -0.001787 -0.000795  0.002585  0.019255\n",
       "2020-01-07 -0.004703 -0.001932  0.000671 -0.017000 -0.009118  0.038801\n",
       "2020-01-08  0.016086  0.007118  0.008346  0.007801  0.015928  0.049205\n",
       "2020-01-09  0.021241  0.010498  0.010569  0.003651  0.012493 -0.021945"
      ]
     },
     "execution_count": 9,
     "metadata": {},
     "output_type": "execute_result"
    }
   ],
   "source": [
    "daily_returns = portfolio_data.pct_change().dropna()\n",
    "daily_returns.head()"
   ]
  },
  {
   "cell_type": "code",
   "execution_count": 10,
   "id": "d4914d32-97ec-474a-ac1a-a40260c98317",
   "metadata": {},
   "outputs": [
    {
     "data": {
      "text/html": [
       "<div>\n",
       "<style scoped>\n",
       "    .dataframe tbody tr th:only-of-type {\n",
       "        vertical-align: middle;\n",
       "    }\n",
       "\n",
       "    .dataframe tbody tr th {\n",
       "        vertical-align: top;\n",
       "    }\n",
       "\n",
       "    .dataframe thead th {\n",
       "        text-align: right;\n",
       "    }\n",
       "</style>\n",
       "<table border=\"1\" class=\"dataframe\">\n",
       "  <thead>\n",
       "    <tr style=\"text-align: right;\">\n",
       "      <th></th>\n",
       "      <th>AAPL</th>\n",
       "      <th>GOOGL</th>\n",
       "      <th>IBM</th>\n",
       "      <th>JPM</th>\n",
       "      <th>MSFT</th>\n",
       "      <th>TSLA</th>\n",
       "    </tr>\n",
       "    <tr>\n",
       "      <th>Date</th>\n",
       "      <th></th>\n",
       "      <th></th>\n",
       "      <th></th>\n",
       "      <th></th>\n",
       "      <th></th>\n",
       "      <th></th>\n",
       "    </tr>\n",
       "  </thead>\n",
       "  <tbody>\n",
       "    <tr>\n",
       "      <th>2024-12-23</th>\n",
       "      <td>0.003065</td>\n",
       "      <td>0.016823</td>\n",
       "      <td>-0.006402</td>\n",
       "      <td>0.003325</td>\n",
       "      <td>-0.003092</td>\n",
       "      <td>0.022657</td>\n",
       "    </tr>\n",
       "    <tr>\n",
       "      <th>2024-12-24</th>\n",
       "      <td>0.011478</td>\n",
       "      <td>0.007604</td>\n",
       "      <td>0.011175</td>\n",
       "      <td>0.016444</td>\n",
       "      <td>0.009374</td>\n",
       "      <td>0.073572</td>\n",
       "    </tr>\n",
       "    <tr>\n",
       "      <th>2024-12-26</th>\n",
       "      <td>0.003176</td>\n",
       "      <td>-0.002601</td>\n",
       "      <td>0.002139</td>\n",
       "      <td>0.003425</td>\n",
       "      <td>-0.002777</td>\n",
       "      <td>-0.017630</td>\n",
       "    </tr>\n",
       "    <tr>\n",
       "      <th>2024-12-27</th>\n",
       "      <td>-0.013242</td>\n",
       "      <td>-0.014519</td>\n",
       "      <td>-0.009382</td>\n",
       "      <td>-0.008102</td>\n",
       "      <td>-0.017302</td>\n",
       "      <td>-0.049479</td>\n",
       "    </tr>\n",
       "    <tr>\n",
       "      <th>2024-12-30</th>\n",
       "      <td>-0.013263</td>\n",
       "      <td>-0.007885</td>\n",
       "      <td>-0.011356</td>\n",
       "      <td>-0.007671</td>\n",
       "      <td>-0.013240</td>\n",
       "      <td>-0.033012</td>\n",
       "    </tr>\n",
       "  </tbody>\n",
       "</table>\n",
       "</div>"
      ],
      "text/plain": [
       "                AAPL     GOOGL       IBM       JPM      MSFT      TSLA\n",
       "Date                                                                  \n",
       "2024-12-23  0.003065  0.016823 -0.006402  0.003325 -0.003092  0.022657\n",
       "2024-12-24  0.011478  0.007604  0.011175  0.016444  0.009374  0.073572\n",
       "2024-12-26  0.003176 -0.002601  0.002139  0.003425 -0.002777 -0.017630\n",
       "2024-12-27 -0.013242 -0.014519 -0.009382 -0.008102 -0.017302 -0.049479\n",
       "2024-12-30 -0.013263 -0.007885 -0.011356 -0.007671 -0.013240 -0.033012"
      ]
     },
     "metadata": {},
     "output_type": "display_data"
    }
   ],
   "source": [
    "display(daily_returns.tail())"
   ]
  },
  {
   "cell_type": "code",
   "execution_count": 11,
   "id": "b6ffd1ae-0053-4d8d-b728-6e717fccb76f",
   "metadata": {},
   "outputs": [
    {
     "data": {
      "image/png": "[encoded data removed]",
      "text/plain": [
       "<Figure size 640x480 with 6 Axes>"
      ]
     },
     "metadata": {},
     "output_type": "display_data"
    },
    {
     "data": {
      "text/plain": [
       "None"
      ]
     },
     "metadata": {},
     "output_type": "display_data"
    }
   ],
   "source": [
    "#we check the distribution of daily returns \n",
    "daily_returns.hist(bins=100)\n",
    "display(plt.show())"
   ]
  },
  {
   "cell_type": "code",
   "execution_count": 12,
   "id": "fb3dc82b-7d72-4a54-8a01-d9b788e4b7b8",
   "metadata": {},
   "outputs": [
    {
     "data": {
      "text/html": [
       "<div>\n",
       "<style scoped>\n",
       "    .dataframe tbody tr th:only-of-type {\n",
       "        vertical-align: middle;\n",
       "    }\n",
       "\n",
       "    .dataframe tbody tr th {\n",
       "        vertical-align: top;\n",
       "    }\n",
       "\n",
       "    .dataframe thead th {\n",
       "        text-align: right;\n",
       "    }\n",
       "</style>\n",
       "<table border=\"1\" class=\"dataframe\">\n",
       "  <thead>\n",
       "    <tr style=\"text-align: right;\">\n",
       "      <th></th>\n",
       "      <th>AAPL</th>\n",
       "      <th>GOOGL</th>\n",
       "      <th>IBM</th>\n",
       "      <th>JPM</th>\n",
       "      <th>MSFT</th>\n",
       "      <th>TSLA</th>\n",
       "    </tr>\n",
       "    <tr>\n",
       "      <th>Date</th>\n",
       "      <th></th>\n",
       "      <th></th>\n",
       "      <th></th>\n",
       "      <th></th>\n",
       "      <th></th>\n",
       "      <th></th>\n",
       "    </tr>\n",
       "  </thead>\n",
       "  <tbody>\n",
       "    <tr>\n",
       "      <th>2020-01-02</th>\n",
       "      <td>NaN</td>\n",
       "      <td>NaN</td>\n",
       "      <td>NaN</td>\n",
       "      <td>NaN</td>\n",
       "      <td>NaN</td>\n",
       "      <td>NaN</td>\n",
       "    </tr>\n",
       "    <tr>\n",
       "      <th>2020-01-03</th>\n",
       "      <td>-0.009769</td>\n",
       "      <td>-0.005245</td>\n",
       "      <td>-0.008007</td>\n",
       "      <td>-0.013284</td>\n",
       "      <td>-0.012530</td>\n",
       "      <td>0.029203</td>\n",
       "    </tr>\n",
       "    <tr>\n",
       "      <th>2020-01-06</th>\n",
       "      <td>0.007937</td>\n",
       "      <td>0.026305</td>\n",
       "      <td>-0.001788</td>\n",
       "      <td>-0.000796</td>\n",
       "      <td>0.002581</td>\n",
       "      <td>0.019072</td>\n",
       "    </tr>\n",
       "    <tr>\n",
       "      <th>2020-01-07</th>\n",
       "      <td>-0.004714</td>\n",
       "      <td>-0.001934</td>\n",
       "      <td>0.000671</td>\n",
       "      <td>-0.017147</td>\n",
       "      <td>-0.009160</td>\n",
       "      <td>0.038067</td>\n",
       "    </tr>\n",
       "    <tr>\n",
       "      <th>2020-01-08</th>\n",
       "      <td>0.015958</td>\n",
       "      <td>0.007093</td>\n",
       "      <td>0.008312</td>\n",
       "      <td>0.007771</td>\n",
       "      <td>0.015803</td>\n",
       "      <td>0.048033</td>\n",
       "    </tr>\n",
       "  </tbody>\n",
       "</table>\n",
       "</div>"
      ],
      "text/plain": [
       "                AAPL     GOOGL       IBM       JPM      MSFT      TSLA\n",
       "Date                                                                  \n",
       "2020-01-02       NaN       NaN       NaN       NaN       NaN       NaN\n",
       "2020-01-03 -0.009769 -0.005245 -0.008007 -0.013284 -0.012530  0.029203\n",
       "2020-01-06  0.007937  0.026305 -0.001788 -0.000796  0.002581  0.019072\n",
       "2020-01-07 -0.004714 -0.001934  0.000671 -0.017147 -0.009160  0.038067\n",
       "2020-01-08  0.015958  0.007093  0.008312  0.007771  0.015803  0.048033"
      ]
     },
     "metadata": {},
     "output_type": "display_data"
    }
   ],
   "source": [
    "#we find log returns to capture the idea of returns over time\n",
    "log_returns  = np.log(1 +  portfolio_data.pct_change())\n",
    "display(log_returns.head())"
   ]
  },
  {
   "cell_type": "markdown",
   "id": "a98f2629-2e61-43f6-9a48-0ff812f7dd4c",
   "metadata": {},
   "source": [
    "We see that raw log returns are as follows, with Tesla having the highest at 0.53 points. Note that we adjust the\n",
    "value to calculate said returns annually over 252 live days for the market."
   ]
  },
  {
   "cell_type": "code",
   "execution_count": 13,
   "id": "2e0323bc-8f1b-464a-a9d7-ce41d25b461c",
   "metadata": {},
   "outputs": [
    {
     "data": {
      "text/plain": [
       "AAPL     0.249304\n",
       "GOOGL    0.206912\n",
       "IBM      0.153276\n",
       "JPM      0.135013\n",
       "MSFT     0.204075\n",
       "TSLA     0.537251\n",
       "dtype: float64"
      ]
     },
     "execution_count": 13,
     "metadata": {},
     "output_type": "execute_result"
    }
   ],
   "source": [
    "log_returns.mean() * 252"
   ]
  },
  {
   "cell_type": "markdown",
   "id": "a103a0fb-fe48-4c1c-b73c-d9de1ef6c85c",
   "metadata": {},
   "source": [
    "A standard way to analyse how stocks in our portfolio vary together is through covariance and correlation matrices.\n",
    "When Apple's stock prices go up do we have a genearl trend of Microsoft's going up ? If so this is how we measure it."
   ]
  },
  {
   "cell_type": "code",
   "execution_count": 14,
   "id": "293f3148-8bd3-43f7-875b-8428aaf5fc54",
   "metadata": {},
   "outputs": [
    {
     "data": {
      "text/html": [
       "<div>\n",
       "<style scoped>\n",
       "    .dataframe tbody tr th:only-of-type {\n",
       "        vertical-align: middle;\n",
       "    }\n",
       "\n",
       "    .dataframe tbody tr th {\n",
       "        vertical-align: top;\n",
       "    }\n",
       "\n",
       "    .dataframe thead th {\n",
       "        text-align: right;\n",
       "    }\n",
       "</style>\n",
       "<table border=\"1\" class=\"dataframe\">\n",
       "  <thead>\n",
       "    <tr style=\"text-align: right;\">\n",
       "      <th></th>\n",
       "      <th>AAPL</th>\n",
       "      <th>GOOGL</th>\n",
       "      <th>IBM</th>\n",
       "      <th>JPM</th>\n",
       "      <th>MSFT</th>\n",
       "      <th>TSLA</th>\n",
       "    </tr>\n",
       "  </thead>\n",
       "  <tbody>\n",
       "    <tr>\n",
       "      <th>AAPL</th>\n",
       "      <td>0.100265</td>\n",
       "      <td>0.067248</td>\n",
       "      <td>0.033830</td>\n",
       "      <td>0.042592</td>\n",
       "      <td>0.072596</td>\n",
       "      <td>0.104471</td>\n",
       "    </tr>\n",
       "    <tr>\n",
       "      <th>GOOGL</th>\n",
       "      <td>0.067248</td>\n",
       "      <td>0.105840</td>\n",
       "      <td>0.031208</td>\n",
       "      <td>0.042929</td>\n",
       "      <td>0.074289</td>\n",
       "      <td>0.088513</td>\n",
       "    </tr>\n",
       "    <tr>\n",
       "      <th>IBM</th>\n",
       "      <td>0.033830</td>\n",
       "      <td>0.031208</td>\n",
       "      <td>0.071939</td>\n",
       "      <td>0.049763</td>\n",
       "      <td>0.033981</td>\n",
       "      <td>0.029200</td>\n",
       "    </tr>\n",
       "    <tr>\n",
       "      <th>JPM</th>\n",
       "      <td>0.042592</td>\n",
       "      <td>0.042929</td>\n",
       "      <td>0.049763</td>\n",
       "      <td>0.105375</td>\n",
       "      <td>0.042063</td>\n",
       "      <td>0.061411</td>\n",
       "    </tr>\n",
       "    <tr>\n",
       "      <th>MSFT</th>\n",
       "      <td>0.072596</td>\n",
       "      <td>0.074289</td>\n",
       "      <td>0.033981</td>\n",
       "      <td>0.042063</td>\n",
       "      <td>0.093226</td>\n",
       "      <td>0.093285</td>\n",
       "    </tr>\n",
       "    <tr>\n",
       "      <th>TSLA</th>\n",
       "      <td>0.104471</td>\n",
       "      <td>0.088513</td>\n",
       "      <td>0.029200</td>\n",
       "      <td>0.061411</td>\n",
       "      <td>0.093285</td>\n",
       "      <td>0.448998</td>\n",
       "    </tr>\n",
       "  </tbody>\n",
       "</table>\n",
       "</div>"
      ],
      "text/plain": [
       "           AAPL     GOOGL       IBM       JPM      MSFT      TSLA\n",
       "AAPL   0.100265  0.067248  0.033830  0.042592  0.072596  0.104471\n",
       "GOOGL  0.067248  0.105840  0.031208  0.042929  0.074289  0.088513\n",
       "IBM    0.033830  0.031208  0.071939  0.049763  0.033981  0.029200\n",
       "JPM    0.042592  0.042929  0.049763  0.105375  0.042063  0.061411\n",
       "MSFT   0.072596  0.074289  0.033981  0.042063  0.093226  0.093285\n",
       "TSLA   0.104471  0.088513  0.029200  0.061411  0.093285  0.448998"
      ]
     },
     "execution_count": 14,
     "metadata": {},
     "output_type": "execute_result"
    }
   ],
   "source": [
    "#the covariance matrix\n",
    "log_returns.cov()*252"
   ]
  },
  {
   "cell_type": "code",
   "execution_count": 15,
   "id": "7b46a975-4807-4451-975a-bc6318536305",
   "metadata": {},
   "outputs": [
    {
     "data": {
      "text/html": [
       "<div>\n",
       "<style scoped>\n",
       "    .dataframe tbody tr th:only-of-type {\n",
       "        vertical-align: middle;\n",
       "    }\n",
       "\n",
       "    .dataframe tbody tr th {\n",
       "        vertical-align: top;\n",
       "    }\n",
       "\n",
       "    .dataframe thead th {\n",
       "        text-align: right;\n",
       "    }\n",
       "</style>\n",
       "<table border=\"1\" class=\"dataframe\">\n",
       "  <thead>\n",
       "    <tr style=\"text-align: right;\">\n",
       "      <th></th>\n",
       "      <th>AAPL</th>\n",
       "      <th>GOOGL</th>\n",
       "      <th>IBM</th>\n",
       "      <th>JPM</th>\n",
       "      <th>MSFT</th>\n",
       "      <th>TSLA</th>\n",
       "    </tr>\n",
       "  </thead>\n",
       "  <tbody>\n",
       "    <tr>\n",
       "      <th>AAPL</th>\n",
       "      <td>1.000000</td>\n",
       "      <td>0.652798</td>\n",
       "      <td>0.398329</td>\n",
       "      <td>0.414365</td>\n",
       "      <td>0.750878</td>\n",
       "      <td>0.492377</td>\n",
       "    </tr>\n",
       "    <tr>\n",
       "      <th>GOOGL</th>\n",
       "      <td>0.652798</td>\n",
       "      <td>1.000000</td>\n",
       "      <td>0.357647</td>\n",
       "      <td>0.406499</td>\n",
       "      <td>0.747878</td>\n",
       "      <td>0.406032</td>\n",
       "    </tr>\n",
       "    <tr>\n",
       "      <th>IBM</th>\n",
       "      <td>0.398329</td>\n",
       "      <td>0.357647</td>\n",
       "      <td>1.000000</td>\n",
       "      <td>0.571556</td>\n",
       "      <td>0.414945</td>\n",
       "      <td>0.162470</td>\n",
       "    </tr>\n",
       "    <tr>\n",
       "      <th>JPM</th>\n",
       "      <td>0.414365</td>\n",
       "      <td>0.406499</td>\n",
       "      <td>0.571556</td>\n",
       "      <td>1.000000</td>\n",
       "      <td>0.424383</td>\n",
       "      <td>0.282330</td>\n",
       "    </tr>\n",
       "    <tr>\n",
       "      <th>MSFT</th>\n",
       "      <td>0.750878</td>\n",
       "      <td>0.747878</td>\n",
       "      <td>0.414945</td>\n",
       "      <td>0.424383</td>\n",
       "      <td>1.000000</td>\n",
       "      <td>0.455952</td>\n",
       "    </tr>\n",
       "    <tr>\n",
       "      <th>TSLA</th>\n",
       "      <td>0.492377</td>\n",
       "      <td>0.406032</td>\n",
       "      <td>0.162470</td>\n",
       "      <td>0.282330</td>\n",
       "      <td>0.455952</td>\n",
       "      <td>1.000000</td>\n",
       "    </tr>\n",
       "  </tbody>\n",
       "</table>\n",
       "</div>"
      ],
      "text/plain": [
       "           AAPL     GOOGL       IBM       JPM      MSFT      TSLA\n",
       "AAPL   1.000000  0.652798  0.398329  0.414365  0.750878  0.492377\n",
       "GOOGL  0.652798  1.000000  0.357647  0.406499  0.747878  0.406032\n",
       "IBM    0.398329  0.357647  1.000000  0.571556  0.414945  0.162470\n",
       "JPM    0.414365  0.406499  0.571556  1.000000  0.424383  0.282330\n",
       "MSFT   0.750878  0.747878  0.414945  0.424383  1.000000  0.455952\n",
       "TSLA   0.492377  0.406032  0.162470  0.282330  0.455952  1.000000"
      ]
     },
     "execution_count": 15,
     "metadata": {},
     "output_type": "execute_result"
    }
   ],
   "source": [
    "log_returns.corr()"
   ]
  },
  {
   "cell_type": "code",
   "execution_count": null,
   "id": "717a147b-94eb-431b-87fb-d039822ffff3",
   "metadata": {},
   "outputs": [],
   "source": []
  },
  {
   "cell_type": "markdown",
   "id": "60cfef86-cf70-474b-84ed-e7fa75df1cbf",
   "metadata": {},
   "source": [
    "### Monte Carlo Simulation\n",
    "\n",
    "Monte Carlo Simulation involves performing multiple iterations (can be maximised to increase robustness of model) of assigning random\n",
    "weights to each item in our portfolio and analysing the returns, volatility and Sharpe Ratio ( a metric to identify the risk adjusted returns we get ) for each of them. "
   ]
  },
  {
   "cell_type": "code",
   "execution_count": null,
   "id": "7e37fd07-dc6f-4775-bd8a-6ad768cdfef9",
   "metadata": {},
   "outputs": [],
   "source": []
  },
  {
   "cell_type": "code",
   "execution_count": null,
   "id": "34cf0220-c4e0-44ed-8667-683ce634b7d8",
   "metadata": {},
   "outputs": [],
   "source": []
  },
  {
   "cell_type": "code",
   "execution_count": null,
   "id": "9ce1e8d2-9df4-4316-89a1-bb26d2c02b6c",
   "metadata": {},
   "outputs": [],
   "source": []
  },
  {
   "cell_type": "code",
   "execution_count": null,
   "id": "5655ab93-7cdc-4858-8120-0ede00795e6e",
   "metadata": {},
   "outputs": [],
   "source": []
  },
  {
   "cell_type": "code",
   "execution_count": null,
   "id": "28e1ab73-aa41-4c0d-8ad1-db1e96ab605b",
   "metadata": {},
   "outputs": [],
   "source": []
  },
  {
   "cell_type": "markdown",
   "id": "39c35e70-453a-4558-b99f-a961e4adce7f",
   "metadata": {},
   "source": [
    "### What is the Sharpe Ratio?\n",
    "The Sharpe Ratio measures risk-adjusted return:  \n",
    "$$ S = \\frac{R_p - R_f}{\\sigma_p} $$\n",
    "where Rp is the portfolio return, Rf is the risk-free rate, and denominator is portfolio volatility."
   ]
  },
  {
   "cell_type": "markdown",
   "id": "63bd4d5b-7c3e-4c3b-8497-2a99ae3775c2",
   "metadata": {},
   "source": [
    "The following is one iteration of the same"
   ]
  },
  {
   "cell_type": "code",
   "execution_count": 16,
   "id": "a087faf0-7dc9-4936-8624-45ecf73d13c3",
   "metadata": {},
   "outputs": [
    {
     "data": {
      "text/plain": [
       "array([0.06003073, 0.23690183, 0.23996591, 0.18398929, 0.06779152,\n",
       "       0.21132072])"
      ]
     },
     "metadata": {},
     "output_type": "display_data"
    }
   ],
   "source": [
    "#assigning random weights to each symbol in the portfolio to begin monte carlo simulation\n",
    "random_weights = np.array(np.random.random(num_of_symbols))\n",
    "\n",
    "#weights should be standaradsed\n",
    "rebalanced_weights = random_weights / np.sum(random_weights)\n",
    "\n",
    "display(rebalanced_weights)"
   ]
  },
  {
   "cell_type": "code",
   "execution_count": 17,
   "id": "a42baf85-7d90-4da8-8cd1-5fdbb1c50040",
   "metadata": {},
   "outputs": [
    {
     "data": {
      "text/plain": [
       "np.float64(0.25297274760402566)"
      ]
     },
     "execution_count": 17,
     "metadata": {},
     "output_type": "execute_result"
    }
   ],
   "source": [
    "#calculate the expected returns, annualized according to number of trading days 252\n",
    "expected_returns = np.sum(log_returns.mean() * rebalanced_weights) * 252\n",
    "expected_returns"
   ]
  },
  {
   "cell_type": "code",
   "execution_count": 18,
   "id": "5f856b2c-ee74-4720-adb9-abb759a54f4e",
   "metadata": {},
   "outputs": [
    {
     "data": {
      "text/plain": [
       "np.float64(0.27759219877780816)"
      ]
     },
     "execution_count": 18,
     "metadata": {},
     "output_type": "execute_result"
    }
   ],
   "source": [
    "expected_volatility = np.sqrt(\n",
    "    np.dot(\n",
    "        rebalanced_weights.T,\n",
    "        np.dot(\n",
    "            log_returns.cov()*252, \n",
    "            rebalanced_weights\n",
    "        )\n",
    "    )\n",
    ")\n",
    "expected_volatility"
   ]
  },
  {
   "cell_type": "code",
   "execution_count": null,
   "id": "96649a44-badd-483a-8784-25fcd265fdb7",
   "metadata": {},
   "outputs": [],
   "source": []
  },
  {
   "cell_type": "markdown",
   "id": "92078107-71ca-4ed4-b5de-8d1734e6d2d1",
   "metadata": {},
   "source": [
    "Here I assume a risk free rate on returns to be 0.015 points, say we invest in government treasury bonds. The \n",
    "general assumption is that the government doesnt defualt on their returns."
   ]
  },
  {
   "cell_type": "code",
   "execution_count": 19,
   "id": "827564a3-a584-4374-955d-c9096df7a911",
   "metadata": {},
   "outputs": [],
   "source": [
    "#Sharpe Ratio\n",
    "#assume some risk free rate of returns say returns on government treasury bonds\n",
    "risk_free_returns = 0.015 \n",
    "\n",
    "sharpe_ratio = (expected_returns - risk_free_returns)/expected_volatility"
   ]
  },
  {
   "cell_type": "code",
   "execution_count": null,
   "id": "00a09387-7c37-4f14-b174-49ec61949d89",
   "metadata": {},
   "outputs": [],
   "source": []
  },
  {
   "cell_type": "code",
   "execution_count": null,
   "id": "640cf08e-bd02-4422-bfe0-b2f13505de00",
   "metadata": {},
   "outputs": [],
   "source": []
  },
  {
   "cell_type": "markdown",
   "id": "134c1a16-101d-438c-a03a-4e869b9cf360",
   "metadata": {},
   "source": [
    "We create a data frame to store all our metrics"
   ]
  },
  {
   "cell_type": "code",
   "execution_count": 20,
   "id": "c3c4a9b0-fe45-4c42-bb44-c831c053517b",
   "metadata": {},
   "outputs": [
    {
     "data": {
      "text/html": [
       "<div>\n",
       "<style scoped>\n",
       "    .dataframe tbody tr th:only-of-type {\n",
       "        vertical-align: middle;\n",
       "    }\n",
       "\n",
       "    .dataframe tbody tr th {\n",
       "        vertical-align: top;\n",
       "    }\n",
       "\n",
       "    .dataframe thead th {\n",
       "        text-align: right;\n",
       "    }\n",
       "</style>\n",
       "<table border=\"1\" class=\"dataframe\">\n",
       "  <thead>\n",
       "    <tr style=\"text-align: right;\">\n",
       "      <th></th>\n",
       "      <th>Expected Portfolio Returns</th>\n",
       "      <th>Expected Portfolio Volatility</th>\n",
       "      <th>Portfolio Sharpe Ratio</th>\n",
       "    </tr>\n",
       "  </thead>\n",
       "  <tbody>\n",
       "    <tr>\n",
       "      <th>0</th>\n",
       "      <td>0.252973</td>\n",
       "      <td>0.277592</td>\n",
       "      <td>0.857275</td>\n",
       "    </tr>\n",
       "  </tbody>\n",
       "</table>\n",
       "</div>"
      ],
      "text/plain": [
       "   Expected Portfolio Returns  Expected Portfolio Volatility  \\\n",
       "0                    0.252973                       0.277592   \n",
       "\n",
       "   Portfolio Sharpe Ratio  \n",
       "0                0.857275  "
      ]
     },
     "execution_count": 20,
     "metadata": {},
     "output_type": "execute_result"
    }
   ],
   "source": [
    "#create a data frame with our portfolio metrics for one itereation or one simulation\n",
    "#we run multiple such iterations - the monte carlo simulation\n",
    "metrics_df = pd.DataFrame(data = {\n",
    "    'Expected Portfolio Returns': expected_returns,\n",
    "    'Expected Portfolio Volatility': expected_volatility,\n",
    "    'Portfolio Sharpe Ratio': sharpe_ratio\n",
    "    }, index = [0])\n",
    "\n",
    "metrics_df.head()"
   ]
  },
  {
   "cell_type": "code",
   "execution_count": null,
   "id": "92ab949e-7153-4df4-8ab4-9cd377abff7e",
   "metadata": {},
   "outputs": [],
   "source": []
  },
  {
   "cell_type": "markdown",
   "id": "2da1420d-9a20-48b1-8bfd-b5f6191f3e79",
   "metadata": {},
   "source": [
    "Here is the main Monte Carlo Simulation code. we are essentially working with an array of different generated \n",
    "portfolios with randomly assigned weights and figuring out the metrics for each of them."
   ]
  },
  {
   "cell_type": "code",
   "execution_count": null,
   "id": "ca9da577-8099-480b-b02f-e85cdff558cd",
   "metadata": {},
   "outputs": [],
   "source": []
  },
  {
   "cell_type": "code",
   "execution_count": 21,
   "id": "54ebc03c-db5a-47e0-a6c1-586ac686bcb0",
   "metadata": {},
   "outputs": [],
   "source": [
    "num_of_portfolios = 10500"
   ]
  },
  {
   "cell_type": "code",
   "execution_count": 22,
   "id": "d5eb80ae-acad-46ee-b4d7-aba37abc8c3b",
   "metadata": {},
   "outputs": [],
   "source": [
    "#we look for the minimum expected volatility and highest sharpe ratio (basically most return \n",
    "#for that amount of risk. number of simulations is the number of portfolios we get\n",
    "\n",
    "#predefine/ initialize arrays for storage of the values for each portfolio\n",
    "weights_arr = np.zeros((num_of_portfolios, num_of_symbols))\n",
    "\n",
    "returns_arr = np.zeros(num_of_portfolios)\n",
    "\n",
    "volatility_arr = np.zeros(num_of_portfolios)\n",
    "\n",
    "sharpe_arr = np.zeros(num_of_portfolios)\n",
    "\n",
    "for i in range(num_of_portfolios):\n",
    "    #calculate the weights:\n",
    "    weights = np.array(np.random.random(num_of_symbols))\n",
    "    #standardize the weights\n",
    "    weights = weights / np.sum(weights)\n",
    "\n",
    "    weights_arr[i, :] = weights\n",
    "\n",
    "    returns_arr[i] = np.sum((log_returns.mean() * weights))*252\n",
    "\n",
    "    volatility_arr[i] = np.sqrt(\n",
    "        np.dot(\n",
    "            weights.T,\n",
    "            np.dot(\n",
    "                log_returns.cov()*252, \n",
    "                weights\n",
    "            )\n",
    "        )\n",
    "    )\n",
    "\n",
    "    sharpe_arr[i] = (returns_arr[i] - risk_free_returns)/ volatility_arr[i]"
   ]
  },
  {
   "cell_type": "code",
   "execution_count": 23,
   "id": "1ebc889c-f65f-445d-ae99-43f9ad9f907c",
   "metadata": {},
   "outputs": [
    {
     "data": {
      "text/html": [
       "<div>\n",
       "<style scoped>\n",
       "    .dataframe tbody tr th:only-of-type {\n",
       "        vertical-align: middle;\n",
       "    }\n",
       "\n",
       "    .dataframe tbody tr th {\n",
       "        vertical-align: top;\n",
       "    }\n",
       "\n",
       "    .dataframe thead th {\n",
       "        text-align: right;\n",
       "    }\n",
       "</style>\n",
       "<table border=\"1\" class=\"dataframe\">\n",
       "  <thead>\n",
       "    <tr style=\"text-align: right;\">\n",
       "      <th></th>\n",
       "      <th>Returns</th>\n",
       "      <th>Volatility</th>\n",
       "      <th>Sharpe Ratio</th>\n",
       "      <th>Portfolio Weights</th>\n",
       "    </tr>\n",
       "  </thead>\n",
       "  <tbody>\n",
       "    <tr>\n",
       "      <th>0</th>\n",
       "      <td>0.23165</td>\n",
       "      <td>0.274662</td>\n",
       "      <td>0.788787</td>\n",
       "      <td>[0.30864094936740505, 0.32464428101831194, 0.0...</td>\n",
       "    </tr>\n",
       "    <tr>\n",
       "      <th>1</th>\n",
       "      <td>0.242967</td>\n",
       "      <td>0.283516</td>\n",
       "      <td>0.804072</td>\n",
       "      <td>[0.08978629251538238, 0.09366988225389386, 0.0...</td>\n",
       "    </tr>\n",
       "    <tr>\n",
       "      <th>2</th>\n",
       "      <td>0.25316</td>\n",
       "      <td>0.280028</td>\n",
       "      <td>0.850485</td>\n",
       "      <td>[0.14796621852198094, 0.19874743060382513, 0.1...</td>\n",
       "    </tr>\n",
       "    <tr>\n",
       "      <th>3</th>\n",
       "      <td>0.209996</td>\n",
       "      <td>0.250188</td>\n",
       "      <td>0.779398</td>\n",
       "      <td>[0.19467633930315678, 0.20115512887253892, 0.1...</td>\n",
       "    </tr>\n",
       "    <tr>\n",
       "      <th>4</th>\n",
       "      <td>0.300136</td>\n",
       "      <td>0.32788</td>\n",
       "      <td>0.869637</td>\n",
       "      <td>[0.24098189031163864, 0.02068927353885732, 0.0...</td>\n",
       "    </tr>\n",
       "    <tr>\n",
       "      <th>...</th>\n",
       "      <td>...</td>\n",
       "      <td>...</td>\n",
       "      <td>...</td>\n",
       "      <td>...</td>\n",
       "    </tr>\n",
       "    <tr>\n",
       "      <th>10495</th>\n",
       "      <td>0.240228</td>\n",
       "      <td>0.26878</td>\n",
       "      <td>0.837966</td>\n",
       "      <td>[0.03667241496476079, 0.05028296128560054, 0.3...</td>\n",
       "    </tr>\n",
       "    <tr>\n",
       "      <th>10496</th>\n",
       "      <td>0.186975</td>\n",
       "      <td>0.242176</td>\n",
       "      <td>0.710126</td>\n",
       "      <td>[0.14395434552279374, 0.26785572204935776, 0.1...</td>\n",
       "    </tr>\n",
       "    <tr>\n",
       "      <th>10497</th>\n",
       "      <td>0.215587</td>\n",
       "      <td>0.262142</td>\n",
       "      <td>0.765183</td>\n",
       "      <td>[0.3354244583512521, 0.07414536912486343, 0.06...</td>\n",
       "    </tr>\n",
       "    <tr>\n",
       "      <th>10498</th>\n",
       "      <td>0.266841</td>\n",
       "      <td>0.288808</td>\n",
       "      <td>0.871999</td>\n",
       "      <td>[0.2406274842026472, 0.1879331748538503, 0.116...</td>\n",
       "    </tr>\n",
       "    <tr>\n",
       "      <th>10499</th>\n",
       "      <td>0.28754</td>\n",
       "      <td>0.310316</td>\n",
       "      <td>0.878268</td>\n",
       "      <td>[0.02179741307162284, 0.07669662467985476, 0.2...</td>\n",
       "    </tr>\n",
       "  </tbody>\n",
       "</table>\n",
       "<p>10500 rows × 4 columns</p>\n",
       "</div>"
      ],
      "text/plain": [
       "        Returns Volatility Sharpe Ratio  \\\n",
       "0       0.23165   0.274662     0.788787   \n",
       "1      0.242967   0.283516     0.804072   \n",
       "2       0.25316   0.280028     0.850485   \n",
       "3      0.209996   0.250188     0.779398   \n",
       "4      0.300136    0.32788     0.869637   \n",
       "...         ...        ...          ...   \n",
       "10495  0.240228    0.26878     0.837966   \n",
       "10496  0.186975   0.242176     0.710126   \n",
       "10497  0.215587   0.262142     0.765183   \n",
       "10498  0.266841   0.288808     0.871999   \n",
       "10499   0.28754   0.310316     0.878268   \n",
       "\n",
       "                                       Portfolio Weights  \n",
       "0      [0.30864094936740505, 0.32464428101831194, 0.0...  \n",
       "1      [0.08978629251538238, 0.09366988225389386, 0.0...  \n",
       "2      [0.14796621852198094, 0.19874743060382513, 0.1...  \n",
       "3      [0.19467633930315678, 0.20115512887253892, 0.1...  \n",
       "4      [0.24098189031163864, 0.02068927353885732, 0.0...  \n",
       "...                                                  ...  \n",
       "10495  [0.03667241496476079, 0.05028296128560054, 0.3...  \n",
       "10496  [0.14395434552279374, 0.26785572204935776, 0.1...  \n",
       "10497  [0.3354244583512521, 0.07414536912486343, 0.06...  \n",
       "10498  [0.2406274842026472, 0.1879331748538503, 0.116...  \n",
       "10499  [0.02179741307162284, 0.07669662467985476, 0.2...  \n",
       "\n",
       "[10500 rows x 4 columns]"
      ]
     },
     "metadata": {},
     "output_type": "display_data"
    }
   ],
   "source": [
    "simulated_data = [returns_arr, volatility_arr, sharpe_arr, weights_arr]\n",
    "\n",
    "simulated_df = pd.DataFrame(data = simulated_data).T\n",
    "\n",
    "simulated_df.columns = ['Returns', 'Volatility', 'Sharpe Ratio', 'Portfolio Weights']\n",
    "\n",
    "display(simulated_df)"
   ]
  },
  {
   "cell_type": "markdown",
   "id": "5def059d-00a3-4a60-9c23-bb61dc1d0f83",
   "metadata": {},
   "source": [
    "### Optimization \n",
    "\n",
    "Can be done in two simplel ways here: identify the portfolio with which we get the most returns for a set amount of risk\n",
    "(risk adjusted returns) using the Sharpe Ratio metric. Or we extract the portfolio with the least volatility, hence the least amount of\n",
    "risk involved."
   ]
  },
  {
   "cell_type": "code",
   "execution_count": 24,
   "id": "73c2c619-9d10-48b8-91c2-5a74ddb964de",
   "metadata": {},
   "outputs": [
    {
     "name": "stdout",
     "output_type": "stream",
     "text": [
      "Max Sharpe Ratio Portfolio\n",
      "Returns                                                       0.287227\n",
      "Volatility                                                    0.296951\n",
      "Sharpe Ratio                                                   0.91674\n",
      "Portfolio Weights    [0.25169155068382776, 0.06707783608641239, 0.3...\n",
      "Name: 9950, dtype: object\n",
      "----------------------------------------------------------------------------------------------------\n",
      "Min Volatility Portfolio\n",
      "Returns                                                       0.185449\n",
      "Volatility                                                    0.232712\n",
      "Sharpe Ratio                                                  0.732444\n",
      "Portfolio Weights    [0.22901920330441544, 0.15599913599625995, 0.5...\n",
      "Name: 3682, dtype: object\n"
     ]
    }
   ],
   "source": [
    "#portfolio with the highest sharpe ratio\n",
    "\n",
    "max_sharpe_port = simulated_df.loc[simulated_df['Sharpe Ratio'].idxmax()]\n",
    "\n",
    "min_vol_port = simulated_df.loc[simulated_df['Volatility'].idxmin()]\n",
    "\n",
    "print(\"Max Sharpe Ratio Portfolio\")\n",
    "print(max_sharpe_port)\n",
    "\n",
    "print('-'*100)\n",
    "print(\"Min Volatility Portfolio\")\n",
    "print(min_vol_port)\n"
   ]
  },
  {
   "cell_type": "markdown",
   "id": "002905ef-871e-43e6-86f2-40cd7d777ae0",
   "metadata": {},
   "source": [
    "### Conclusion\n",
    "\n",
    "The weights for these optimized portfolios I generated are as follows. For most risk-adjusted returns invest most in Apple, \n",
    "IBM and Tesla.\n",
    "\n",
    "The Most Optimal Sharpe Ratio is 92% on Expected Returns of about 30%"
   ]
  },
  {
   "cell_type": "code",
   "execution_count": 25,
   "id": "39087ad7-f2c2-40b4-bf65-9b322d2d54d2",
   "metadata": {},
   "outputs": [
    {
     "data": {
      "text/plain": [
       "array([0.25169155, 0.06707784, 0.3950445 , 0.00143106, 0.0093923 ,\n",
       "       0.27536275])"
      ]
     },
     "metadata": {},
     "output_type": "display_data"
    }
   ],
   "source": [
    "display(max_sharpe_port['Portfolio Weights'])"
   ]
  },
  {
   "cell_type": "markdown",
   "id": "38d14290-4058-479f-9028-4b33af071054",
   "metadata": {},
   "source": [
    "For least risk portfolios invest most in IBM. We see that investing in Tesla has quite a lot of\n",
    "volatility and risk involved.\n",
    "\n",
    "The expected returns on this portfolio with minimum volatility is about 18.5%"
   ]
  },
  {
   "cell_type": "code",
   "execution_count": 26,
   "id": "2abed950-9394-412a-8cb8-583e79b3edf0",
   "metadata": {},
   "outputs": [
    {
     "data": {
      "text/plain": [
       "array([0.2290192 , 0.15599914, 0.50801223, 0.06933155, 0.03413338,\n",
       "       0.0035045 ])"
      ]
     },
     "metadata": {},
     "output_type": "display_data"
    }
   ],
   "source": [
    "display(min_vol_port['Portfolio Weights'])"
   ]
  },
  {
   "cell_type": "code",
   "execution_count": null,
   "id": "f473cb3e-7939-4f1b-b3ed-73adce886553",
   "metadata": {},
   "outputs": [],
   "source": []
  }
 ],
 "metadata": {
  "kernelspec": {
   "display_name": "Python 3 (ipykernel)",
   "language": "python",
   "name": "python3"
  },
  "language_info": {
   "codemirror_mode": {
    "name": "ipython",
    "version": 3
   },
   "file_extension": ".py",
   "mimetype": "text/x-python",
   "name": "python",
   "nbconvert_exporter": "python",
   "pygments_lexer": "ipython3",
   "version": "3.11.13"
  }
 },
 "nbformat": 4,
 "nbformat_minor": 5
}
